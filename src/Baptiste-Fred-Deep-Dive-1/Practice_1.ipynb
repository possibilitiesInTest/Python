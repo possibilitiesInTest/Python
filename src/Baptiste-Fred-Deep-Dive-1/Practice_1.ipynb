{
 "cells": [
  {
   "cell_type": "markdown",
   "metadata": {},
   "source": [
    "Numbers"
   ]
  },
  {
   "cell_type": "markdown",
   "metadata": {},
   "source": [
    "Integral  Non-Integral\n",
    "\n",
    "-integers  -floats\n",
    "-booleans  -complex\n",
    "           -decimals\n",
    "           -fractions"
   ]
  },
  {
   "cell_type": "markdown",
   "metadata": {},
   "source": [
    "Collecitons\n",
    "\n",
    "Sequences\n",
    "mutable\n",
    "lists\n",
    "\n",
    "immutable\n",
    "tuples\n",
    "strings\n",
    "\n",
    "sets\n",
    "mutable\n",
    "sets\n",
    "\n",
    "imutable\n",
    "frozen sets\n",
    "\n",
    "mappings\n",
    "dicitonaries"
   ]
  },
  {
   "cell_type": "markdown",
   "metadata": {},
   "source": [
    "Callables\n",
    "(anything you can invoke)\n",
    "\n",
    "User-Defined Functions\n",
    "genrators\n",
    "classes\n",
    "isntance methods\n",
    "Class instances (__call__())\n",
    "built-in functions (len(), open())\n",
    "built-in methods (my_list.append(s))\n",
    "\n",
    "Singletons\n",
    "none\n",
    "notiimplemented\n",
    "ellipsis(...)\n"
   ]
  },
  {
   "cell_type": "markdown",
   "metadata": {},
   "source": [
    "-->physical lines of code\n",
    "-->logical line sof code\n",
    "-->tokenized\n",
    "\n",
    "sometimes, physical newlines ar eignored\n",
    "in order to combine multiple physical lines into a single line of code\n",
    "terminated by a logical NEWLINE taken\n",
    "\n",
    "implicit\n",
    "\n",
    "expressions in:\n",
    "list literals: []\n",
    "tuple literals: ()\n",
    "dicitonary literals: {}\n",
    "set literals: {}\n",
    "function arguments / parameters\n",
    "\n",
    "support inline comments\n",
    "\n",
    "explicit:\n",
    "\\ backslash == continuation\n",
    "\n",
    "if a \\\n",
    "  and b \\\n",
    "  and c:\n",
    "  \n",
    "cannot put comments inline\n",
    "\n",
    "multi-line String literals\n",
    "'''literaly a string\n",
    "with a newline, including space'''"
   ]
  },
  {
   "cell_type": "code",
   "execution_count": 3,
   "metadata": {},
   "outputs": [],
   "source": [
    "a = [1, 2, 3]"
   ]
  },
  {
   "cell_type": "code",
   "execution_count": 4,
   "metadata": {},
   "outputs": [],
   "source": [
    "a = [1, 2,\n",
    "    3, 4, 5]"
   ]
  },
  {
   "cell_type": "code",
   "execution_count": 5,
   "metadata": {},
   "outputs": [
    {
     "data": {
      "text/plain": [
       "[1, 2, 3, 4, 5]"
      ]
     },
     "execution_count": 5,
     "metadata": {},
     "output_type": "execute_result"
    }
   ],
   "source": [
    "a"
   ]
  },
  {
   "cell_type": "code",
   "execution_count": 6,
   "metadata": {},
   "outputs": [
    {
     "ename": "SyntaxError",
     "evalue": "invalid syntax (<ipython-input-6-a106753661ca>, line 2)",
     "output_type": "error",
     "traceback": [
      "\u001b[1;36m  File \u001b[1;32m\"<ipython-input-6-a106753661ca>\"\u001b[1;36m, line \u001b[1;32m2\u001b[0m\n\u001b[1;33m    , 2]\u001b[0m\n\u001b[1;37m    ^\u001b[0m\n\u001b[1;31mSyntaxError\u001b[0m\u001b[1;31m:\u001b[0m invalid syntax\n"
     ]
    }
   ],
   "source": [
    "a = [ 1, #item 1\n",
    "    , 2]"
   ]
  },
  {
   "cell_type": "code",
   "execution_count": 7,
   "metadata": {},
   "outputs": [],
   "source": [
    "a = (1 #comment\n",
    "    ,2 #comment\n",
    "    ,3)"
   ]
  },
  {
   "cell_type": "code",
   "execution_count": 8,
   "metadata": {},
   "outputs": [
    {
     "data": {
      "text/plain": [
       "(1, 2, 3)"
      ]
     },
     "execution_count": 8,
     "metadata": {},
     "output_type": "execute_result"
    }
   ],
   "source": [
    "a"
   ]
  },
  {
   "cell_type": "code",
   "execution_count": 10,
   "metadata": {},
   "outputs": [],
   "source": [
    "a = {'key': 1 #value for key 1\n",
    "     ,'key2': 2 #value for key 2\n",
    "    }"
   ]
  },
  {
   "cell_type": "code",
   "execution_count": 11,
   "metadata": {},
   "outputs": [
    {
     "data": {
      "text/plain": [
       "{'key': 1, 'key2': 2}"
      ]
     },
     "execution_count": 11,
     "metadata": {},
     "output_type": "execute_result"
    }
   ],
   "source": [
    "a"
   ]
  },
  {
   "cell_type": "code",
   "execution_count": 12,
   "metadata": {},
   "outputs": [],
   "source": [
    "def my_func(a, # indicates ...\n",
    "           b, # something else\n",
    "           c):\n",
    "    print(a, b, c)"
   ]
  },
  {
   "cell_type": "code",
   "execution_count": 14,
   "metadata": {},
   "outputs": [
    {
     "name": "stdout",
     "output_type": "stream",
     "text": [
      "10 20 30\n"
     ]
    }
   ],
   "source": [
    "my_func(10, 20, 30)"
   ]
  },
  {
   "cell_type": "code",
   "execution_count": 15,
   "metadata": {},
   "outputs": [
    {
     "name": "stdout",
     "output_type": "stream",
     "text": [
      "10 20 30\n"
     ]
    }
   ],
   "source": [
    "my_func(10, 20, 30)"
   ]
  },
  {
   "cell_type": "code",
   "execution_count": 17,
   "metadata": {},
   "outputs": [
    {
     "name": "stdout",
     "output_type": "stream",
     "text": [
      "10 20 30\n"
     ]
    }
   ],
   "source": [
    "my_func(10, # comment\n",
    "       20, # common\n",
    "       30 #something\n",
    "       )"
   ]
  },
  {
   "cell_type": "code",
   "execution_count": 18,
   "metadata": {},
   "outputs": [],
   "source": [
    "a = 10\n",
    "b = 10\n",
    "c = 30"
   ]
  },
  {
   "cell_type": "code",
   "execution_count": 19,
   "metadata": {},
   "outputs": [],
   "source": [
    "if a > 5 \\\n",
    "       and b > \\\n",
    "            10 and c > 20:\n",
    "    print('yes')"
   ]
  },
  {
   "cell_type": "code",
   "execution_count": 20,
   "metadata": {},
   "outputs": [],
   "source": [
    "a = '''this is a string'''"
   ]
  },
  {
   "cell_type": "code",
   "execution_count": null,
   "metadata": {},
   "outputs": [],
   "source": [
    "a = "
   ]
  }
 ],
 "metadata": {
  "kernelspec": {
   "display_name": "Python 3",
   "language": "python",
   "name": "python3"
  },
  "language_info": {
   "codemirror_mode": {
    "name": "ipython",
    "version": 3
   },
   "file_extension": ".py",
   "mimetype": "text/x-python",
   "name": "python",
   "nbconvert_exporter": "python",
   "pygments_lexer": "ipython3",
   "version": "3.7.6"
  }
 },
 "nbformat": 4,
 "nbformat_minor": 4
}
