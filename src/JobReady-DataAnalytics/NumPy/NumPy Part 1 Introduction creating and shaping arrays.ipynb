{
 "cells": [
  {
   "cell_type": "markdown",
   "id": "2079c3f8",
   "metadata": {},
   "source": [
    "`Linear Algebra library in Python"
   ]
  },
  {
   "cell_type": "markdown",
   "id": "621900fc",
   "metadata": {},
   "source": [
    "Building block for Pandas"
   ]
  },
  {
   "cell_type": "markdown",
   "id": "750f4e23",
   "metadata": {},
   "source": [
    "Dealing with Vectors (1-d) and Matricies (2-d or more) arrays"
   ]
  },
  {
   "cell_type": "code",
   "execution_count": null,
   "id": "d95efd7f",
   "metadata": {},
   "outputs": [],
   "source": []
  },
  {
   "cell_type": "markdown",
   "id": "5a281ccd",
   "metadata": {},
   "source": [
    "## Part 1: NumPy Arrays"
   ]
  },
  {
   "cell_type": "markdown",
   "id": "a7554117",
   "metadata": {},
   "source": [
    "Arrays from lists"
   ]
  },
  {
   "cell_type": "code",
   "execution_count": 3,
   "id": "ea5ff5c8",
   "metadata": {},
   "outputs": [],
   "source": [
    "import numpy as np"
   ]
  },
  {
   "cell_type": "code",
   "execution_count": 6,
   "id": "30ae4b16",
   "metadata": {},
   "outputs": [],
   "source": [
    "list_1d = [5,3,8]"
   ]
  },
  {
   "cell_type": "code",
   "execution_count": 5,
   "id": "f55b96bc",
   "metadata": {},
   "outputs": [
    {
     "data": {
      "text/plain": [
       "array([5, 3, 8])"
      ]
     },
     "execution_count": 5,
     "metadata": {},
     "output_type": "execute_result"
    }
   ],
   "source": [
    "np.array(list_1d)"
   ]
  },
  {
   "cell_type": "code",
   "execution_count": 7,
   "id": "4ce6a0a3",
   "metadata": {},
   "outputs": [],
   "source": [
    "list_2d = [[3,7,10],[4,2,5]]"
   ]
  },
  {
   "cell_type": "code",
   "execution_count": 8,
   "id": "fc100e00",
   "metadata": {},
   "outputs": [
    {
     "data": {
      "text/plain": [
       "[[3, 7, 10], [4, 2, 5]]"
      ]
     },
     "execution_count": 8,
     "metadata": {},
     "output_type": "execute_result"
    }
   ],
   "source": [
    "list_2d"
   ]
  },
  {
   "cell_type": "code",
   "execution_count": 9,
   "id": "3d501672",
   "metadata": {},
   "outputs": [
    {
     "data": {
      "text/plain": [
       "array([[ 3,  7, 10],\n",
       "       [ 4,  2,  5]])"
      ]
     },
     "execution_count": 9,
     "metadata": {},
     "output_type": "execute_result"
    }
   ],
   "source": [
    "np.array(list_2d)"
   ]
  },
  {
   "cell_type": "code",
   "execution_count": null,
   "id": "e1f9929b",
   "metadata": {},
   "outputs": [],
   "source": []
  },
  {
   "cell_type": "markdown",
   "id": "485b001b",
   "metadata": {},
   "source": [
    "Arrays from ranges(np.arrange)"
   ]
  },
  {
   "cell_type": "code",
   "execution_count": 10,
   "id": "f2a70edb",
   "metadata": {},
   "outputs": [
    {
     "data": {
      "text/plain": [
       "array([3, 4, 5, 6, 7, 8, 9])"
      ]
     },
     "execution_count": 10,
     "metadata": {},
     "output_type": "execute_result"
    }
   ],
   "source": [
    "np.arange(3,10)"
   ]
  },
  {
   "cell_type": "markdown",
   "id": "14997638",
   "metadata": {},
   "source": [
    "Arrays from ranges(np.arange)"
   ]
  },
  {
   "cell_type": "code",
   "execution_count": 13,
   "id": "5ff41dd1",
   "metadata": {},
   "outputs": [
    {
     "data": {
      "text/plain": [
       "array([2, 4, 6, 8])"
      ]
     },
     "execution_count": 13,
     "metadata": {},
     "output_type": "execute_result"
    }
   ],
   "source": [
    "np.arange(2,10,2)"
   ]
  },
  {
   "cell_type": "markdown",
   "id": "8521578d",
   "metadata": {},
   "source": [
    "Arrays from ranges(np.linspace)"
   ]
  },
  {
   "cell_type": "code",
   "execution_count": 16,
   "id": "885c661d",
   "metadata": {},
   "outputs": [
    {
     "data": {
      "text/plain": [
       "array([ 1.        ,  3.11111111,  5.22222222,  7.33333333,  9.44444444,\n",
       "       11.55555556, 13.66666667, 15.77777778, 17.88888889, 20.        ])"
      ]
     },
     "execution_count": 16,
     "metadata": {},
     "output_type": "execute_result"
    }
   ],
   "source": [
    "np.linspace(1,20,10)"
   ]
  },
  {
   "cell_type": "code",
   "execution_count": 17,
   "id": "6e850342",
   "metadata": {},
   "outputs": [
    {
     "data": {
      "text/plain": [
       "array([[ 1.        ,  1.        ],\n",
       "       [ 2.        ,  1.44444444],\n",
       "       [ 3.        ,  1.88888889],\n",
       "       [ 4.        ,  2.33333333],\n",
       "       [ 5.        ,  2.77777778],\n",
       "       [ 6.        ,  3.22222222],\n",
       "       [ 7.        ,  3.66666667],\n",
       "       [ 8.        ,  4.11111111],\n",
       "       [ 9.        ,  4.55555556],\n",
       "       [10.        ,  5.        ]])"
      ]
     },
     "execution_count": 17,
     "metadata": {},
     "output_type": "execute_result"
    }
   ],
   "source": [
    "np.linspace((1,1), (10,5), 10)"
   ]
  },
  {
   "cell_type": "code",
   "execution_count": null,
   "id": "a392166f",
   "metadata": {},
   "outputs": [],
   "source": []
  },
  {
   "cell_type": "markdown",
   "id": "6ac1bd7a",
   "metadata": {},
   "source": [
    "Arrays with random values"
   ]
  },
  {
   "cell_type": "code",
   "execution_count": 18,
   "id": "2b219033",
   "metadata": {},
   "outputs": [
    {
     "data": {
      "text/plain": [
       "array([0.70507517, 0.87441136, 0.99150594, 0.72260707])"
      ]
     },
     "execution_count": 18,
     "metadata": {},
     "output_type": "execute_result"
    }
   ],
   "source": [
    "np.random.rand(4)"
   ]
  },
  {
   "cell_type": "code",
   "execution_count": 19,
   "id": "4b350ace",
   "metadata": {},
   "outputs": [
    {
     "data": {
      "text/plain": [
       "array([[0.34963766, 0.70716989, 0.60307676, 0.61095131],\n",
       "       [0.19990065, 0.505048  , 0.58381965, 0.85131542],\n",
       "       [0.7767489 , 0.88342331, 0.31472885, 0.32971937]])"
      ]
     },
     "execution_count": 19,
     "metadata": {},
     "output_type": "execute_result"
    }
   ],
   "source": [
    "np.random.rand(3,4)"
   ]
  },
  {
   "cell_type": "markdown",
   "id": "784dadb5",
   "metadata": {},
   "source": [
    "Stadnard distribution from 1 to -1"
   ]
  },
  {
   "cell_type": "code",
   "execution_count": 20,
   "id": "0ef19f9a",
   "metadata": {},
   "outputs": [
    {
     "data": {
      "text/plain": [
       "array([ 0.20584379, -0.63387276,  0.0899255 ,  1.40460076,  1.13435413])"
      ]
     },
     "execution_count": 20,
     "metadata": {},
     "output_type": "execute_result"
    }
   ],
   "source": [
    "np.random.randn(5)"
   ]
  },
  {
   "cell_type": "code",
   "execution_count": 21,
   "id": "23161a3d",
   "metadata": {},
   "outputs": [
    {
     "data": {
      "text/plain": [
       "array([[-1.11062311, -0.10837786, -0.65122088, -0.88847211],\n",
       "       [ 0.28147942,  1.59017894,  0.86241207, -1.57746927],\n",
       "       [ 0.07668552, -0.66765988, -0.41164879, -0.22649407],\n",
       "       [-1.63590425, -0.45807419,  0.07185824, -0.81448983],\n",
       "       [-0.91896112,  0.42783295, -0.34192732,  0.62808979],\n",
       "       [ 1.27185461, -0.38134674,  0.46794348,  0.26697678]])"
      ]
     },
     "execution_count": 21,
     "metadata": {},
     "output_type": "execute_result"
    }
   ],
   "source": [
    "np.random.randn(6,4)"
   ]
  },
  {
   "cell_type": "markdown",
   "id": "0cfb4164",
   "metadata": {},
   "source": [
    "Standarad Arrays(zeros, ones, identity matrix)"
   ]
  },
  {
   "cell_type": "code",
   "execution_count": 23,
   "id": "3aadfbac",
   "metadata": {},
   "outputs": [
    {
     "data": {
      "text/plain": [
       "array([0., 0., 0., 0., 0., 0., 0., 0., 0., 0.])"
      ]
     },
     "execution_count": 23,
     "metadata": {},
     "output_type": "execute_result"
    }
   ],
   "source": [
    "np.zeros(10)"
   ]
  },
  {
   "cell_type": "code",
   "execution_count": 25,
   "id": "a573d9bf",
   "metadata": {},
   "outputs": [
    {
     "data": {
      "text/plain": [
       "array([1., 1., 1., 1.])"
      ]
     },
     "execution_count": 25,
     "metadata": {},
     "output_type": "execute_result"
    }
   ],
   "source": [
    "np.ones(4)"
   ]
  },
  {
   "cell_type": "code",
   "execution_count": 26,
   "id": "c5e11db0",
   "metadata": {},
   "outputs": [
    {
     "data": {
      "text/plain": [
       "array([[1., 1., 1., 1., 1.],\n",
       "       [1., 1., 1., 1., 1.],\n",
       "       [1., 1., 1., 1., 1.],\n",
       "       [1., 1., 1., 1., 1.]])"
      ]
     },
     "execution_count": 26,
     "metadata": {},
     "output_type": "execute_result"
    }
   ],
   "source": [
    "np.ones((4,5))"
   ]
  },
  {
   "cell_type": "markdown",
   "id": "44a6260f",
   "metadata": {},
   "source": [
    "Identity Matrix"
   ]
  },
  {
   "cell_type": "code",
   "execution_count": 27,
   "id": "85becd86",
   "metadata": {},
   "outputs": [
    {
     "data": {
      "text/plain": [
       "array([[1., 0., 0., 0.],\n",
       "       [0., 1., 0., 0.],\n",
       "       [0., 0., 1., 0.],\n",
       "       [0., 0., 0., 1.]])"
      ]
     },
     "execution_count": 27,
     "metadata": {},
     "output_type": "execute_result"
    }
   ],
   "source": [
    "np.eye(4)"
   ]
  },
  {
   "cell_type": "markdown",
   "id": "a8cdd658",
   "metadata": {},
   "source": [
    "Reshape Arrays"
   ]
  },
  {
   "cell_type": "code",
   "execution_count": 28,
   "id": "212646d8",
   "metadata": {},
   "outputs": [],
   "source": [
    "arr = np.random.rand(12)"
   ]
  },
  {
   "cell_type": "code",
   "execution_count": 29,
   "id": "784bad11",
   "metadata": {},
   "outputs": [
    {
     "data": {
      "text/plain": [
       "array([0.82986388, 0.96357072, 0.71117248, 0.55913717, 0.60434993,\n",
       "       0.14310881, 0.06465578, 0.43548532, 0.92196602, 0.60102893,\n",
       "       0.94616187, 0.57344561])"
      ]
     },
     "execution_count": 29,
     "metadata": {},
     "output_type": "execute_result"
    }
   ],
   "source": [
    "arr"
   ]
  },
  {
   "cell_type": "code",
   "execution_count": 30,
   "id": "04d12787",
   "metadata": {},
   "outputs": [
    {
     "data": {
      "text/plain": [
       "(12,)"
      ]
     },
     "execution_count": 30,
     "metadata": {},
     "output_type": "execute_result"
    }
   ],
   "source": [
    "arr.shape"
   ]
  },
  {
   "cell_type": "code",
   "execution_count": 31,
   "id": "9670d3db",
   "metadata": {},
   "outputs": [
    {
     "data": {
      "text/plain": [
       "array([[0.82986388, 0.96357072, 0.71117248, 0.55913717],\n",
       "       [0.60434993, 0.14310881, 0.06465578, 0.43548532],\n",
       "       [0.92196602, 0.60102893, 0.94616187, 0.57344561]])"
      ]
     },
     "execution_count": 31,
     "metadata": {},
     "output_type": "execute_result"
    }
   ],
   "source": [
    "arr.reshape(3,4)"
   ]
  },
  {
   "cell_type": "code",
   "execution_count": 32,
   "id": "e34f9681",
   "metadata": {},
   "outputs": [
    {
     "data": {
      "text/plain": [
       "array([[0.82986388, 0.96357072, 0.71117248, 0.55913717, 0.60434993,\n",
       "        0.14310881],\n",
       "       [0.06465578, 0.43548532, 0.92196602, 0.60102893, 0.94616187,\n",
       "        0.57344561]])"
      ]
     },
     "execution_count": 32,
     "metadata": {},
     "output_type": "execute_result"
    }
   ],
   "source": [
    "arr.reshape(2, 6)"
   ]
  },
  {
   "cell_type": "code",
   "execution_count": null,
   "id": "0cfd4d96",
   "metadata": {},
   "outputs": [],
   "source": []
  },
  {
   "cell_type": "code",
   "execution_count": null,
   "id": "48550d36",
   "metadata": {},
   "outputs": [],
   "source": []
  },
  {
   "cell_type": "code",
   "execution_count": null,
   "id": "535dfcd5",
   "metadata": {},
   "outputs": [],
   "source": []
  }
 ],
 "metadata": {
  "kernelspec": {
   "display_name": "Python 3 (ipykernel)",
   "language": "python",
   "name": "python3"
  },
  "language_info": {
   "codemirror_mode": {
    "name": "ipython",
    "version": 3
   },
   "file_extension": ".py",
   "mimetype": "text/x-python",
   "name": "python",
   "nbconvert_exporter": "python",
   "pygments_lexer": "ipython3",
   "version": "3.11.5"
  }
 },
 "nbformat": 4,
 "nbformat_minor": 5
}
