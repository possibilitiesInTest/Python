{
 "cells": [
  {
   "cell_type": "markdown",
   "id": "e5e18faf",
   "metadata": {},
   "source": [
    "#### Reading from 1-d arrays using index"
   ]
  },
  {
   "cell_type": "code",
   "execution_count": 20,
   "id": "e0c358c4",
   "metadata": {},
   "outputs": [],
   "source": [
    "import numpy as np"
   ]
  },
  {
   "cell_type": "code",
   "execution_count": 12,
   "id": "c02b0c70",
   "metadata": {},
   "outputs": [],
   "source": [
    "arr1 = np.arange(3, 9)"
   ]
  },
  {
   "cell_type": "code",
   "execution_count": 13,
   "id": "11d215a0",
   "metadata": {},
   "outputs": [
    {
     "data": {
      "text/plain": [
       "array([3, 4, 5, 6, 7, 8])"
      ]
     },
     "execution_count": 13,
     "metadata": {},
     "output_type": "execute_result"
    }
   ],
   "source": [
    "arr1"
   ]
  },
  {
   "cell_type": "code",
   "execution_count": 14,
   "id": "c9139881",
   "metadata": {},
   "outputs": [
    {
     "data": {
      "text/plain": [
       "8"
      ]
     },
     "execution_count": 14,
     "metadata": {},
     "output_type": "execute_result"
    }
   ],
   "source": [
    "arr1[5]"
   ]
  },
  {
   "cell_type": "code",
   "execution_count": 15,
   "id": "29aab306",
   "metadata": {},
   "outputs": [
    {
     "data": {
      "text/plain": [
       "array([3, 4, 5, 6, 7])"
      ]
     },
     "execution_count": 15,
     "metadata": {},
     "output_type": "execute_result"
    }
   ],
   "source": [
    "arr1[:5]"
   ]
  },
  {
   "cell_type": "code",
   "execution_count": 16,
   "id": "9bb0bdd2",
   "metadata": {},
   "outputs": [
    {
     "data": {
      "text/plain": [
       "array([5, 6, 7, 8])"
      ]
     },
     "execution_count": 16,
     "metadata": {},
     "output_type": "execute_result"
    }
   ],
   "source": [
    "arr1[2:]"
   ]
  },
  {
   "cell_type": "code",
   "execution_count": 18,
   "id": "07eba6b1",
   "metadata": {},
   "outputs": [
    {
     "data": {
      "text/plain": [
       "8"
      ]
     },
     "execution_count": 18,
     "metadata": {},
     "output_type": "execute_result"
    }
   ],
   "source": [
    "arr1[-1] "
   ]
  },
  {
   "cell_type": "raw",
   "id": "c7d5bb1e",
   "metadata": {},
   "source": [
    "arr1[:-2]"
   ]
  },
  {
   "cell_type": "code",
   "execution_count": null,
   "id": "265e2fc4",
   "metadata": {},
   "outputs": [],
   "source": []
  },
  {
   "cell_type": "markdown",
   "id": "16d0c8df",
   "metadata": {},
   "source": [
    "#### Slice vs Copy"
   ]
  },
  {
   "cell_type": "code",
   "execution_count": 21,
   "id": "7567d5ca",
   "metadata": {},
   "outputs": [],
   "source": [
    "sl_arr1 = arr1[1:3]"
   ]
  },
  {
   "cell_type": "code",
   "execution_count": 22,
   "id": "ca71f40c",
   "metadata": {},
   "outputs": [
    {
     "data": {
      "text/plain": [
       "array([4, 5])"
      ]
     },
     "execution_count": 22,
     "metadata": {},
     "output_type": "execute_result"
    }
   ],
   "source": [
    "sl_arr1"
   ]
  },
  {
   "cell_type": "code",
   "execution_count": 23,
   "id": "3161aa03",
   "metadata": {},
   "outputs": [],
   "source": [
    "sl_arr1[:] = 25"
   ]
  },
  {
   "cell_type": "code",
   "execution_count": 24,
   "id": "df42cf25",
   "metadata": {},
   "outputs": [
    {
     "data": {
      "text/plain": [
       "array([25, 25])"
      ]
     },
     "execution_count": 24,
     "metadata": {},
     "output_type": "execute_result"
    }
   ],
   "source": [
    "sl_arr1"
   ]
  },
  {
   "cell_type": "code",
   "execution_count": 25,
   "id": "f515719b",
   "metadata": {},
   "outputs": [
    {
     "data": {
      "text/plain": [
       "array([ 3, 25, 25,  6,  7,  8])"
      ]
     },
     "execution_count": 25,
     "metadata": {},
     "output_type": "execute_result"
    }
   ],
   "source": [
    "arr1"
   ]
  },
  {
   "cell_type": "code",
   "execution_count": 27,
   "id": "3b8cb516",
   "metadata": {},
   "outputs": [],
   "source": [
    "cp_arr1 = arr1.copy()"
   ]
  },
  {
   "cell_type": "code",
   "execution_count": 28,
   "id": "1059df2d",
   "metadata": {},
   "outputs": [
    {
     "data": {
      "text/plain": [
       "array([ 3, 25, 25,  6,  7,  8])"
      ]
     },
     "execution_count": 28,
     "metadata": {},
     "output_type": "execute_result"
    }
   ],
   "source": [
    "cp_arr1"
   ]
  },
  {
   "cell_type": "code",
   "execution_count": 32,
   "id": "6d1c53cc",
   "metadata": {},
   "outputs": [],
   "source": [
    "cp_arr1[1] = 111"
   ]
  },
  {
   "cell_type": "code",
   "execution_count": 33,
   "id": "f9f5519d",
   "metadata": {},
   "outputs": [
    {
     "data": {
      "text/plain": [
       "array([ 3, 25, 25,  6,  7,  8])"
      ]
     },
     "execution_count": 33,
     "metadata": {},
     "output_type": "execute_result"
    }
   ],
   "source": [
    "arr1 "
   ]
  },
  {
   "cell_type": "code",
   "execution_count": 34,
   "id": "d738eb0b",
   "metadata": {},
   "outputs": [
    {
     "data": {
      "text/plain": [
       "array([  3, 111,  25,   6,   7,   8])"
      ]
     },
     "execution_count": 34,
     "metadata": {},
     "output_type": "execute_result"
    }
   ],
   "source": [
    "cp_arr1"
   ]
  },
  {
   "cell_type": "code",
   "execution_count": null,
   "id": "72726bb4",
   "metadata": {},
   "outputs": [],
   "source": []
  },
  {
   "cell_type": "markdown",
   "id": "e418b29d",
   "metadata": {},
   "source": [
    "#### Reading from 2-d arrays using index"
   ]
  },
  {
   "cell_type": "code",
   "execution_count": 37,
   "id": "8ab7eccf",
   "metadata": {},
   "outputs": [],
   "source": [
    "np_2d_arr=np.array([[2,3,4],[5,7,9],[11,22,33]])"
   ]
  },
  {
   "cell_type": "code",
   "execution_count": 38,
   "id": "a3566d6f",
   "metadata": {},
   "outputs": [
    {
     "data": {
      "text/plain": [
       "array([[ 2,  3,  4],\n",
       "       [ 5,  7,  9],\n",
       "       [11, 22, 33]])"
      ]
     },
     "execution_count": 38,
     "metadata": {},
     "output_type": "execute_result"
    }
   ],
   "source": [
    "np_2d_arr"
   ]
  },
  {
   "cell_type": "code",
   "execution_count": 39,
   "id": "a7eb7010",
   "metadata": {},
   "outputs": [
    {
     "data": {
      "text/plain": [
       "array([2, 3, 4])"
      ]
     },
     "execution_count": 39,
     "metadata": {},
     "output_type": "execute_result"
    }
   ],
   "source": [
    "np_2d_arr[0]"
   ]
  },
  {
   "cell_type": "code",
   "execution_count": 40,
   "id": "0a7430ca",
   "metadata": {},
   "outputs": [
    {
     "data": {
      "text/plain": [
       "9"
      ]
     },
     "execution_count": 40,
     "metadata": {},
     "output_type": "execute_result"
    }
   ],
   "source": [
    "np_2d_arr[1][2]"
   ]
  },
  {
   "cell_type": "code",
   "execution_count": 41,
   "id": "e94835f1",
   "metadata": {},
   "outputs": [
    {
     "data": {
      "text/plain": [
       "9"
      ]
     },
     "execution_count": 41,
     "metadata": {},
     "output_type": "execute_result"
    }
   ],
   "source": [
    "np_2d_arr[1,2]"
   ]
  },
  {
   "cell_type": "code",
   "execution_count": 42,
   "id": "dc95cbae",
   "metadata": {},
   "outputs": [
    {
     "data": {
      "text/plain": [
       "array([ 4,  9, 33])"
      ]
     },
     "execution_count": 42,
     "metadata": {},
     "output_type": "execute_result"
    }
   ],
   "source": [
    "np_2d_arr[:,2]"
   ]
  },
  {
   "cell_type": "code",
   "execution_count": 43,
   "id": "7366a461",
   "metadata": {},
   "outputs": [
    {
     "data": {
      "text/plain": [
       "array([[2, 3],\n",
       "       [5, 7]])"
      ]
     },
     "execution_count": 43,
     "metadata": {},
     "output_type": "execute_result"
    }
   ],
   "source": [
    "np_2d_arr[:2,:2]"
   ]
  },
  {
   "cell_type": "code",
   "execution_count": null,
   "id": "2ef9a0c3",
   "metadata": {},
   "outputs": [],
   "source": []
  },
  {
   "cell_type": "markdown",
   "id": "8047a756",
   "metadata": {},
   "source": [
    "#### Reading from 1-d arrays using conditionals"
   ]
  },
  {
   "cell_type": "code",
   "execution_count": 46,
   "id": "a18497a7",
   "metadata": {},
   "outputs": [],
   "source": [
    "rand1_arr=np.random.randn(10)"
   ]
  },
  {
   "cell_type": "code",
   "execution_count": 47,
   "id": "209cc23f",
   "metadata": {},
   "outputs": [
    {
     "data": {
      "text/plain": [
       "array([-0.38682846,  0.37808543,  2.20985415,  0.03154075,  2.2629176 ,\n",
       "        0.03945605, -1.57472728,  0.22083632, -0.25489851,  0.44372705])"
      ]
     },
     "execution_count": 47,
     "metadata": {},
     "output_type": "execute_result"
    }
   ],
   "source": [
    "rand1_arr"
   ]
  },
  {
   "cell_type": "code",
   "execution_count": 48,
   "id": "c8faf21a",
   "metadata": {},
   "outputs": [],
   "source": [
    "bool_arr = rand1_arr > 0"
   ]
  },
  {
   "cell_type": "code",
   "execution_count": 49,
   "id": "a0b53ed3",
   "metadata": {},
   "outputs": [
    {
     "data": {
      "text/plain": [
       "array([False,  True,  True,  True,  True,  True, False,  True, False,\n",
       "        True])"
      ]
     },
     "execution_count": 49,
     "metadata": {},
     "output_type": "execute_result"
    }
   ],
   "source": [
    "bool_arr"
   ]
  },
  {
   "cell_type": "code",
   "execution_count": 51,
   "id": "37211470",
   "metadata": {},
   "outputs": [
    {
     "data": {
      "text/plain": [
       "array([0.37808543, 2.20985415, 0.03154075, 2.2629176 , 0.03945605,\n",
       "       0.22083632, 0.44372705])"
      ]
     },
     "execution_count": 51,
     "metadata": {},
     "output_type": "execute_result"
    }
   ],
   "source": [
    "rand1_arr[bool_arr]"
   ]
  },
  {
   "cell_type": "code",
   "execution_count": 53,
   "id": "815d488c",
   "metadata": {},
   "outputs": [
    {
     "data": {
      "text/plain": [
       "array([0.37808543, 2.20985415, 0.03154075, 2.2629176 , 0.03945605,\n",
       "       0.22083632, 0.44372705])"
      ]
     },
     "execution_count": 53,
     "metadata": {},
     "output_type": "execute_result"
    }
   ],
   "source": [
    "rand1_arr[rand1_arr > 0]"
   ]
  },
  {
   "cell_type": "code",
   "execution_count": null,
   "id": "6bdc032d",
   "metadata": {},
   "outputs": [],
   "source": []
  },
  {
   "cell_type": "code",
   "execution_count": null,
   "id": "ec1f158d",
   "metadata": {},
   "outputs": [],
   "source": []
  },
  {
   "cell_type": "markdown",
   "id": "c8167dff",
   "metadata": {},
   "source": [
    "#### Reading from 2-d using conditionals"
   ]
  },
  {
   "cell_type": "code",
   "execution_count": 71,
   "id": "43cb1106",
   "metadata": {},
   "outputs": [],
   "source": [
    "rand_2d_arr = np.random.randn(15).reshape(3,5)"
   ]
  },
  {
   "cell_type": "code",
   "execution_count": 72,
   "id": "6c9e4b4b",
   "metadata": {},
   "outputs": [
    {
     "data": {
      "text/plain": [
       "array([[ 1.46690843,  1.83797483,  1.20426318, -1.46571623, -1.30011224],\n",
       "       [-1.44958385,  0.05960466,  0.71556778,  0.03699715,  0.78898245],\n",
       "       [-0.89891717,  0.67741748,  0.3868817 ,  0.56380408,  0.40852487]])"
      ]
     },
     "execution_count": 72,
     "metadata": {},
     "output_type": "execute_result"
    }
   ],
   "source": [
    "rand_2d_arr"
   ]
  },
  {
   "cell_type": "code",
   "execution_count": 73,
   "id": "7e7b80c7",
   "metadata": {},
   "outputs": [],
   "source": [
    "bool_2d_arr = rand_2d_arr > 0"
   ]
  },
  {
   "cell_type": "code",
   "execution_count": 74,
   "id": "5f161bd0",
   "metadata": {},
   "outputs": [
    {
     "data": {
      "text/plain": [
       "array([[ True,  True,  True, False, False],\n",
       "       [False,  True,  True,  True,  True],\n",
       "       [False,  True,  True,  True,  True]])"
      ]
     },
     "execution_count": 74,
     "metadata": {},
     "output_type": "execute_result"
    }
   ],
   "source": [
    "bool_2d_arr"
   ]
  },
  {
   "cell_type": "code",
   "execution_count": 75,
   "id": "3b765525",
   "metadata": {},
   "outputs": [
    {
     "data": {
      "text/plain": [
       "array([1.46690843, 1.83797483, 1.20426318, 0.05960466, 0.71556778,\n",
       "       0.03699715, 0.78898245, 0.67741748, 0.3868817 , 0.56380408,\n",
       "       0.40852487])"
      ]
     },
     "execution_count": 75,
     "metadata": {},
     "output_type": "execute_result"
    }
   ],
   "source": [
    "rand_2d_arr[bool_2d_arr]"
   ]
  },
  {
   "cell_type": "code",
   "execution_count": 76,
   "id": "59fbdf40",
   "metadata": {},
   "outputs": [
    {
     "data": {
      "text/plain": [
       "array([ True,  True,  True])"
      ]
     },
     "execution_count": 76,
     "metadata": {},
     "output_type": "execute_result"
    }
   ],
   "source": [
    "bool_2d_arr[:,1]"
   ]
  },
  {
   "cell_type": "code",
   "execution_count": 77,
   "id": "9c66066b",
   "metadata": {},
   "outputs": [
    {
     "data": {
      "text/plain": [
       "array([1.46690843, 1.83797483, 1.20426318, 0.05960466, 0.71556778,\n",
       "       0.03699715, 0.78898245, 0.67741748, 0.3868817 , 0.56380408,\n",
       "       0.40852487])"
      ]
     },
     "execution_count": 77,
     "metadata": {},
     "output_type": "execute_result"
    }
   ],
   "source": [
    "rand_2d_arr[bool_2d_arr]"
   ]
  },
  {
   "cell_type": "code",
   "execution_count": 78,
   "id": "f769677b",
   "metadata": {},
   "outputs": [
    {
     "data": {
      "text/plain": [
       "array([False,  True,  True,  True,  True])"
      ]
     },
     "execution_count": 78,
     "metadata": {},
     "output_type": "execute_result"
    }
   ],
   "source": [
    "bool_2d_arr[1,:]"
   ]
  },
  {
   "cell_type": "code",
   "execution_count": 79,
   "id": "53324c41",
   "metadata": {},
   "outputs": [
    {
     "data": {
      "text/plain": [
       "array([[ 1.83797483,  1.20426318, -1.46571623, -1.30011224],\n",
       "       [ 0.05960466,  0.71556778,  0.03699715,  0.78898245],\n",
       "       [ 0.67741748,  0.3868817 ,  0.56380408,  0.40852487]])"
      ]
     },
     "execution_count": 79,
     "metadata": {},
     "output_type": "execute_result"
    }
   ],
   "source": [
    "rand_2d_arr[:,bool_2d_arr[1,:]]"
   ]
  },
  {
   "cell_type": "raw",
   "id": "79c2f4a7",
   "metadata": {},
   "source": []
  },
  {
   "cell_type": "code",
   "execution_count": null,
   "id": "6309c4b3",
   "metadata": {},
   "outputs": [],
   "source": []
  },
  {
   "cell_type": "code",
   "execution_count": null,
   "id": "b97e9df0",
   "metadata": {},
   "outputs": [],
   "source": []
  },
  {
   "cell_type": "code",
   "execution_count": null,
   "id": "24d8924d",
   "metadata": {},
   "outputs": [],
   "source": []
  },
  {
   "cell_type": "code",
   "execution_count": null,
   "id": "0af0effb",
   "metadata": {},
   "outputs": [],
   "source": []
  },
  {
   "cell_type": "code",
   "execution_count": null,
   "id": "64b6271d",
   "metadata": {},
   "outputs": [],
   "source": []
  }
 ],
 "metadata": {
  "kernelspec": {
   "display_name": "Python 3 (ipykernel)",
   "language": "python",
   "name": "python3"
  },
  "language_info": {
   "codemirror_mode": {
    "name": "ipython",
    "version": 3
   },
   "file_extension": ".py",
   "mimetype": "text/x-python",
   "name": "python",
   "nbconvert_exporter": "python",
   "pygments_lexer": "ipython3",
   "version": "3.11.5"
  }
 },
 "nbformat": 4,
 "nbformat_minor": 5
}
