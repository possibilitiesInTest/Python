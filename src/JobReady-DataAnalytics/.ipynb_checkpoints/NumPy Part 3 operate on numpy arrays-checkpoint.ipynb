{
 "cells": [
  {
   "cell_type": "code",
   "execution_count": 5,
   "id": "08bdcb49",
   "metadata": {},
   "outputs": [],
   "source": [
    "import numpy as np"
   ]
  },
  {
   "cell_type": "code",
   "execution_count": 7,
   "id": "faabd975",
   "metadata": {},
   "outputs": [],
   "source": [
    "arr1 = np.arange(3,13)"
   ]
  },
  {
   "cell_type": "code",
   "execution_count": 9,
   "id": "6c963a23",
   "metadata": {},
   "outputs": [
    {
     "data": {
      "text/plain": [
       "array([ 3,  4,  5,  6,  7,  8,  9, 10, 11, 12])"
      ]
     },
     "execution_count": 9,
     "metadata": {},
     "output_type": "execute_result"
    }
   ],
   "source": [
    "arr1"
   ]
  },
  {
   "cell_type": "code",
   "execution_count": 11,
   "id": "56fb4cb4",
   "metadata": {},
   "outputs": [
    {
     "data": {
      "text/plain": [
       "array([ 8,  9, 10, 11, 12, 13, 14, 15, 16, 17])"
      ]
     },
     "execution_count": 11,
     "metadata": {},
     "output_type": "execute_result"
    }
   ],
   "source": [
    "arr1 + 5"
   ]
  },
  {
   "cell_type": "code",
   "execution_count": 12,
   "id": "fb54df3a",
   "metadata": {},
   "outputs": [
    {
     "data": {
      "text/plain": [
       "array([0, 1, 2, 3, 4, 5, 6, 7, 8, 9])"
      ]
     },
     "execution_count": 12,
     "metadata": {},
     "output_type": "execute_result"
    }
   ],
   "source": [
    "arr1 - 3"
   ]
  },
  {
   "cell_type": "code",
   "execution_count": 13,
   "id": "45c3406d",
   "metadata": {},
   "outputs": [
    {
     "data": {
      "text/plain": [
       "array([0.6, 0.8, 1. , 1.2, 1.4, 1.6, 1.8, 2. , 2.2, 2.4])"
      ]
     },
     "execution_count": 13,
     "metadata": {},
     "output_type": "execute_result"
    }
   ],
   "source": [
    "arr1 / 5"
   ]
  },
  {
   "cell_type": "code",
   "execution_count": 14,
   "id": "295b7492",
   "metadata": {},
   "outputs": [
    {
     "data": {
      "text/plain": [
       "array([18, 24, 30, 36, 42, 48, 54, 60, 66, 72])"
      ]
     },
     "execution_count": 14,
     "metadata": {},
     "output_type": "execute_result"
    }
   ],
   "source": [
    "arr1 * 6"
   ]
  },
  {
   "cell_type": "code",
   "execution_count": 15,
   "id": "5108a85f",
   "metadata": {},
   "outputs": [
    {
     "data": {
      "text/plain": [
       "array([  9,  16,  25,  36,  49,  64,  81, 100, 121, 144])"
      ]
     },
     "execution_count": 15,
     "metadata": {},
     "output_type": "execute_result"
    }
   ],
   "source": [
    "arr1 ** 2 "
   ]
  },
  {
   "cell_type": "code",
   "execution_count": 16,
   "id": "8b95c50b",
   "metadata": {},
   "outputs": [
    {
     "data": {
      "text/plain": [
       "array([1.5, 2. , 2.5, 3. , 3.5, 4. , 4.5, 5. , 5.5, 6. ])"
      ]
     },
     "execution_count": 16,
     "metadata": {},
     "output_type": "execute_result"
    }
   ],
   "source": [
    "arr1 ** 1/2"
   ]
  },
  {
   "cell_type": "code",
   "execution_count": 18,
   "id": "edd8c0c5",
   "metadata": {},
   "outputs": [],
   "source": [
    "arr2 = np.arange(7, 17)"
   ]
  },
  {
   "cell_type": "code",
   "execution_count": 19,
   "id": "effd74af",
   "metadata": {},
   "outputs": [
    {
     "data": {
      "text/plain": [
       "array([10, 12, 14, 16, 18, 20, 22, 24, 26, 28])"
      ]
     },
     "execution_count": 19,
     "metadata": {},
     "output_type": "execute_result"
    }
   ],
   "source": [
    "arr1 + arr2"
   ]
  },
  {
   "cell_type": "code",
   "execution_count": 20,
   "id": "38d22d06",
   "metadata": {},
   "outputs": [
    {
     "data": {
      "text/plain": [
       "array([-4, -4, -4, -4, -4, -4, -4, -4, -4, -4])"
      ]
     },
     "execution_count": 20,
     "metadata": {},
     "output_type": "execute_result"
    }
   ],
   "source": [
    "arr1 - arr2"
   ]
  },
  {
   "cell_type": "code",
   "execution_count": 21,
   "id": "7e562350",
   "metadata": {},
   "outputs": [
    {
     "data": {
      "text/plain": [
       "array([ 21,  32,  45,  60,  77,  96, 117, 140, 165, 192])"
      ]
     },
     "execution_count": 21,
     "metadata": {},
     "output_type": "execute_result"
    }
   ],
   "source": [
    "arr1 * arr2"
   ]
  },
  {
   "cell_type": "code",
   "execution_count": 22,
   "id": "7e1d446b",
   "metadata": {},
   "outputs": [
    {
     "data": {
      "text/plain": [
       "array([0.42857143, 0.5       , 0.55555556, 0.6       , 0.63636364,\n",
       "       0.66666667, 0.69230769, 0.71428571, 0.73333333, 0.75      ])"
      ]
     },
     "execution_count": 22,
     "metadata": {},
     "output_type": "execute_result"
    }
   ],
   "source": [
    "arr1 / arr2"
   ]
  },
  {
   "cell_type": "code",
   "execution_count": 24,
   "id": "c3a8e89c",
   "metadata": {},
   "outputs": [],
   "source": [
    "arr2d = np.array([[2,6,4],[3,5,7],[1,8,9]])"
   ]
  },
  {
   "cell_type": "code",
   "execution_count": 25,
   "id": "a2c227f8",
   "metadata": {},
   "outputs": [
    {
     "data": {
      "text/plain": [
       "array([[ 26,  74,  86],\n",
       "       [ 28,  99, 110],\n",
       "       [ 35, 118, 141]])"
      ]
     },
     "execution_count": 25,
     "metadata": {},
     "output_type": "execute_result"
    }
   ],
   "source": [
    "arr2d.dot(arr2d)"
   ]
  },
  {
   "cell_type": "code",
   "execution_count": 26,
   "id": "fa8052b6",
   "metadata": {},
   "outputs": [
    {
     "data": {
      "text/plain": [
       "array([[2, 3, 1],\n",
       "       [6, 5, 8],\n",
       "       [4, 7, 9]])"
      ]
     },
     "execution_count": 26,
     "metadata": {},
     "output_type": "execute_result"
    }
   ],
   "source": [
    "arr2d.T"
   ]
  },
  {
   "cell_type": "code",
   "execution_count": 28,
   "id": "60d7a1e3",
   "metadata": {},
   "outputs": [
    {
     "data": {
      "text/plain": [
       "45"
      ]
     },
     "execution_count": 28,
     "metadata": {},
     "output_type": "execute_result"
    }
   ],
   "source": [
    "arr2d.sum()"
   ]
  },
  {
   "cell_type": "code",
   "execution_count": 29,
   "id": "57c68c35",
   "metadata": {},
   "outputs": [
    {
     "data": {
      "text/plain": [
       "array([ 6, 19, 20])"
      ]
     },
     "execution_count": 29,
     "metadata": {},
     "output_type": "execute_result"
    }
   ],
   "source": [
    "arr2d.sum(axis=0) "
   ]
  },
  {
   "cell_type": "code",
   "execution_count": 30,
   "id": "a2efde9a",
   "metadata": {},
   "outputs": [
    {
     "data": {
      "text/plain": [
       "array([12, 15, 18])"
      ]
     },
     "execution_count": 30,
     "metadata": {},
     "output_type": "execute_result"
    }
   ],
   "source": [
    "arr2d.sum(axis=1) "
   ]
  },
  {
   "cell_type": "code",
   "execution_count": 31,
   "id": "4ffe442e",
   "metadata": {},
   "outputs": [
    {
     "data": {
      "text/plain": [
       "5.0"
      ]
     },
     "execution_count": 31,
     "metadata": {},
     "output_type": "execute_result"
    }
   ],
   "source": [
    "arr2d.mean()"
   ]
  },
  {
   "cell_type": "code",
   "execution_count": 32,
   "id": "a3c3d662",
   "metadata": {},
   "outputs": [
    {
     "data": {
      "text/plain": [
       "2.581988897471611"
      ]
     },
     "execution_count": 32,
     "metadata": {},
     "output_type": "execute_result"
    }
   ],
   "source": [
    "arr2d.std()"
   ]
  },
  {
   "cell_type": "code",
   "execution_count": null,
   "id": "8c2e7fdc",
   "metadata": {},
   "outputs": [],
   "source": []
  },
  {
   "cell_type": "code",
   "execution_count": 33,
   "id": "18fddfa8",
   "metadata": {},
   "outputs": [],
   "source": [
    "arr_2d = arr2d"
   ]
  },
  {
   "cell_type": "code",
   "execution_count": 34,
   "id": "b2c5afdf",
   "metadata": {},
   "outputs": [
    {
     "data": {
      "text/plain": [
       "array([[2, 6, 4],\n",
       "       [3, 5, 7],\n",
       "       [1, 8, 9]])"
      ]
     },
     "execution_count": 34,
     "metadata": {},
     "output_type": "execute_result"
    }
   ],
   "source": [
    "arr_2d"
   ]
  },
  {
   "cell_type": "code",
   "execution_count": 35,
   "id": "930dd157",
   "metadata": {},
   "outputs": [
    {
     "data": {
      "text/plain": [
       "array([[2, 2, 0],\n",
       "       [3, 1, 3],\n",
       "       [1, 0, 1]], dtype=int32)"
      ]
     },
     "execution_count": 35,
     "metadata": {},
     "output_type": "execute_result"
    }
   ],
   "source": [
    "np.mod(arr_2d, 4)"
   ]
  },
  {
   "cell_type": "code",
   "execution_count": 36,
   "id": "bfdd0a30",
   "metadata": {},
   "outputs": [
    {
     "data": {
      "text/plain": [
       "array([[-0.41614684,  0.96017029, -0.65364362],\n",
       "       [-0.9899925 ,  0.28366219,  0.75390225],\n",
       "       [ 0.54030231, -0.14550003, -0.91113026]])"
      ]
     },
     "execution_count": 36,
     "metadata": {},
     "output_type": "execute_result"
    }
   ],
   "source": [
    "np.cos(arr_2d)"
   ]
  },
  {
   "cell_type": "code",
   "execution_count": 37,
   "id": "9a4515d9",
   "metadata": {},
   "outputs": [
    {
     "data": {
      "text/plain": [
       "array([[False, False, False],\n",
       "       [False, False, False],\n",
       "       [False, False,  True]])"
      ]
     },
     "execution_count": 37,
     "metadata": {},
     "output_type": "execute_result"
    }
   ],
   "source": [
    "np.greater(arr_2d, 8)"
   ]
  },
  {
   "cell_type": "code",
   "execution_count": 38,
   "id": "a27ea3e9",
   "metadata": {},
   "outputs": [
    {
     "data": {
      "text/plain": [
       "array([[ True, False, False],\n",
       "       [False, False, False],\n",
       "       [ True, False, False]])"
      ]
     },
     "execution_count": 38,
     "metadata": {},
     "output_type": "execute_result"
    }
   ],
   "source": [
    "np.less(arr_2d, 3)"
   ]
  },
  {
   "cell_type": "code",
   "execution_count": 39,
   "id": "977a8006",
   "metadata": {},
   "outputs": [
    {
     "data": {
      "text/plain": [
       "array([[ True, False, False],\n",
       "       [False, False, False],\n",
       "       [ True, False,  True]])"
      ]
     },
     "execution_count": 39,
     "metadata": {},
     "output_type": "execute_result"
    }
   ],
   "source": [
    "np.logical_or(np.greater(arr_2d,8), np.less(arr_2d, 3))"
   ]
  },
  {
   "cell_type": "code",
   "execution_count": null,
   "id": "25824de7",
   "metadata": {},
   "outputs": [],
   "source": []
  },
  {
   "cell_type": "code",
   "execution_count": null,
   "id": "1d916b00",
   "metadata": {},
   "outputs": [],
   "source": []
  },
  {
   "cell_type": "code",
   "execution_count": null,
   "id": "0ef247e8",
   "metadata": {},
   "outputs": [],
   "source": []
  }
 ],
 "metadata": {
  "kernelspec": {
   "display_name": "Python 3 (ipykernel)",
   "language": "python",
   "name": "python3"
  },
  "language_info": {
   "codemirror_mode": {
    "name": "ipython",
    "version": 3
   },
   "file_extension": ".py",
   "mimetype": "text/x-python",
   "name": "python",
   "nbconvert_exporter": "python",
   "pygments_lexer": "ipython3",
   "version": "3.11.5"
  }
 },
 "nbformat": 4,
 "nbformat_minor": 5
}
