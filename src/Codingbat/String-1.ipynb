{
 "cells": [
  {
   "cell_type": "code",
   "execution_count": null,
   "id": "1c510d8b",
   "metadata": {},
   "outputs": [],
   "source": [
    "...\n",
    "\n",
    "...\n",
    "\n",
    "..."
   ]
  },
  {
   "cell_type": "markdown",
   "id": "7dd54fe8",
   "metadata": {},
   "source": [
    "### 3.1 hello_name "
   ]
  },
  {
   "cell_type": "markdown",
   "id": "5e7af7ae",
   "metadata": {},
   "source": [
    "Given a string name, e.g. \"Bob\", return a greeting of the form \"Hello Bob!\".\n",
    "\n",
    "\n",
    "hello_name('Bob') → 'Hello Bob!'\n",
    "hello_name('Alice') → 'Hello Alice!'\n",
    "hello_name('X') → 'Hello X!'"
   ]
  },
  {
   "cell_type": "code",
   "execution_count": 1,
   "id": "c8bab2ba",
   "metadata": {},
   "outputs": [],
   "source": [
    "def hello_name(name):\n",
    "  return \"Hello \" + name + \"!\""
   ]
  },
  {
   "cell_type": "code",
   "execution_count": 2,
   "id": "496a7987",
   "metadata": {},
   "outputs": [
    {
     "data": {
      "text/plain": [
       "'Hello Bob!'"
      ]
     },
     "execution_count": 2,
     "metadata": {},
     "output_type": "execute_result"
    }
   ],
   "source": [
    "hello_name('Bob') # 'Hello Bob!'"
   ]
  },
  {
   "cell_type": "code",
   "execution_count": 3,
   "id": "290543e4",
   "metadata": {},
   "outputs": [
    {
     "data": {
      "text/plain": [
       "'Hello Alice!'"
      ]
     },
     "execution_count": 3,
     "metadata": {},
     "output_type": "execute_result"
    }
   ],
   "source": [
    "hello_name('Alice') # 'Hello Alice!'"
   ]
  },
  {
   "cell_type": "code",
   "execution_count": 4,
   "id": "2fe1cd9a",
   "metadata": {},
   "outputs": [
    {
     "data": {
      "text/plain": [
       "'Hello X!'"
      ]
     },
     "execution_count": 4,
     "metadata": {},
     "output_type": "execute_result"
    }
   ],
   "source": [
    "hello_name('X') # 'Hello X!'"
   ]
  },
  {
   "cell_type": "code",
   "execution_count": null,
   "id": "ecec8dc5",
   "metadata": {},
   "outputs": [],
   "source": [
    "...\n",
    "\n",
    "...\n",
    "\n",
    "..."
   ]
  },
  {
   "cell_type": "code",
   "execution_count": null,
   "id": "0dea3c23",
   "metadata": {},
   "outputs": [],
   "source": [
    "### 3.2 make_abba "
   ]
  },
  {
   "cell_type": "code",
   "execution_count": null,
   "id": "324f747b",
   "metadata": {},
   "outputs": [],
   "source": [
    "Given two strings, a and b, return the result of putting them together in the order abba, e.g. \"Hi\" and \"Bye\" returns \"HiByeByeHi\".\n",
    "\n",
    "\n",
    "make_abba('Hi', 'Bye') → 'HiByeByeHi'\n",
    "make_abba('Yo', 'Alice') → 'YoAliceAliceYo'\n",
    "make_abba('What', 'Up') → 'WhatUpUpWhat'"
   ]
  },
  {
   "cell_type": "code",
   "execution_count": 5,
   "id": "0af78224",
   "metadata": {},
   "outputs": [],
   "source": [
    "def make_abba(a, b):\n",
    "  return a + b + b + a"
   ]
  },
  {
   "cell_type": "code",
   "execution_count": 6,
   "id": "17a0dfee",
   "metadata": {},
   "outputs": [
    {
     "data": {
      "text/plain": [
       "'HiByeByeHi'"
      ]
     },
     "execution_count": 6,
     "metadata": {},
     "output_type": "execute_result"
    }
   ],
   "source": [
    "make_abba('Hi', 'Bye') # 'HiByeByeHi'"
   ]
  },
  {
   "cell_type": "code",
   "execution_count": 7,
   "id": "f08ebfdf",
   "metadata": {},
   "outputs": [
    {
     "data": {
      "text/plain": [
       "'YoAliceAliceYo'"
      ]
     },
     "execution_count": 7,
     "metadata": {},
     "output_type": "execute_result"
    }
   ],
   "source": [
    "make_abba('Yo', 'Alice') # 'YoAliceAliceYo'"
   ]
  },
  {
   "cell_type": "code",
   "execution_count": 8,
   "id": "064b6b1f",
   "metadata": {},
   "outputs": [
    {
     "data": {
      "text/plain": [
       "'WhatUpUpWhat'"
      ]
     },
     "execution_count": 8,
     "metadata": {},
     "output_type": "execute_result"
    }
   ],
   "source": [
    "make_abba('What', 'Up') # 'WhatUpUpWhat'"
   ]
  },
  {
   "cell_type": "code",
   "execution_count": null,
   "id": "da4d6a27",
   "metadata": {},
   "outputs": [],
   "source": [
    "...\n",
    "\n",
    "...\n",
    "\n",
    "..."
   ]
  },
  {
   "cell_type": "code",
   "execution_count": null,
   "id": "68b5f5b1",
   "metadata": {},
   "outputs": [],
   "source": [
    "### 3.3 add_tags "
   ]
  },
  {
   "cell_type": "code",
   "execution_count": null,
   "id": "3d694a29",
   "metadata": {},
   "outputs": [],
   "source": [
    "The web is built with HTML strings like \"<i>Yay</i>\" which draws Yay as italic text. In this example, the \"i\" tag makes <i> and </i> which surround the word \"Yay\". Given tag and word strings, create the HTML string with tags around the word, e.g. \"<i>Yay</i>\".\n",
    "\n",
    "\n",
    "make_tags('i', 'Yay') → '<i>Yay</i>'\n",
    "make_tags('i', 'Hello') → '<i>Hello</i>'\n",
    "make_tags('cite', 'Yay') → '<cite>Yay</cite>'"
   ]
  },
  {
   "cell_type": "code",
   "execution_count": 10,
   "id": "58337b02",
   "metadata": {},
   "outputs": [],
   "source": [
    "def make_tags(tag, word):\n",
    "  start = \"<\" + tag + \">\"\n",
    "  end = \"</\" + tag + \">\"\n",
    "  \n",
    "  return start + word + end"
   ]
  },
  {
   "cell_type": "code",
   "execution_count": 11,
   "id": "d4ca19ec",
   "metadata": {},
   "outputs": [
    {
     "data": {
      "text/plain": [
       "'<i>Yay</i>'"
      ]
     },
     "execution_count": 11,
     "metadata": {},
     "output_type": "execute_result"
    }
   ],
   "source": [
    "make_tags('i', 'Yay') # '<i>Yay</i>'"
   ]
  },
  {
   "cell_type": "code",
   "execution_count": 12,
   "id": "34eb3334",
   "metadata": {},
   "outputs": [
    {
     "data": {
      "text/plain": [
       "'<i>Hello</i>'"
      ]
     },
     "execution_count": 12,
     "metadata": {},
     "output_type": "execute_result"
    }
   ],
   "source": [
    "make_tags('i', 'Hello') # '<i>Hello</i>'"
   ]
  },
  {
   "cell_type": "code",
   "execution_count": 13,
   "id": "388f2681",
   "metadata": {},
   "outputs": [
    {
     "data": {
      "text/plain": [
       "'<cite>Yay</cite>'"
      ]
     },
     "execution_count": 13,
     "metadata": {},
     "output_type": "execute_result"
    }
   ],
   "source": [
    "make_tags('cite', 'Yay') # '<cite>Yay</cite>'"
   ]
  },
  {
   "cell_type": "code",
   "execution_count": null,
   "id": "781b3eb9",
   "metadata": {},
   "outputs": [],
   "source": [
    "...\n",
    "\n",
    "...\n",
    "\n",
    "..."
   ]
  },
  {
   "cell_type": "code",
   "execution_count": null,
   "id": "36e0097d",
   "metadata": {},
   "outputs": [],
   "source": [
    "### 3.4 make_out_word "
   ]
  },
  {
   "cell_type": "code",
   "execution_count": null,
   "id": "c916ff19",
   "metadata": {},
   "outputs": [],
   "source": [
    "Given an \"out\" string length 4, such as \"<<>>\", and a word, return a new string where the word is in the middle of the out string, e.g. \"<<word>>\".\n",
    "\n",
    "\n",
    "make_out_word('<<>>', 'Yay') → '<<Yay>>'\n",
    "make_out_word('<<>>', 'WooHoo') → '<<WooHoo>>'\n",
    "make_out_word('[[]]', 'word') → '[[word]]'"
   ]
  },
  {
   "cell_type": "code",
   "execution_count": 14,
   "id": "6a83adb2",
   "metadata": {},
   "outputs": [],
   "source": [
    "def make_out_word(out, word):\n",
    "  first = out[:2]\n",
    "  last = out[2:]\n",
    "  \n",
    "  return first + word + last"
   ]
  },
  {
   "cell_type": "code",
   "execution_count": 15,
   "id": "116b3699",
   "metadata": {},
   "outputs": [
    {
     "data": {
      "text/plain": [
       "'<<Yay>>'"
      ]
     },
     "execution_count": 15,
     "metadata": {},
     "output_type": "execute_result"
    }
   ],
   "source": [
    "make_out_word('<<>>', 'Yay') # '<<Yay>>'"
   ]
  },
  {
   "cell_type": "code",
   "execution_count": 16,
   "id": "693d5e8a",
   "metadata": {},
   "outputs": [
    {
     "data": {
      "text/plain": [
       "'<<WooHoo>>'"
      ]
     },
     "execution_count": 16,
     "metadata": {},
     "output_type": "execute_result"
    }
   ],
   "source": [
    "make_out_word('<<>>', 'WooHoo') # '<<WooHoo>>'"
   ]
  },
  {
   "cell_type": "code",
   "execution_count": 17,
   "id": "92cbb353",
   "metadata": {},
   "outputs": [
    {
     "data": {
      "text/plain": [
       "'[[word]]'"
      ]
     },
     "execution_count": 17,
     "metadata": {},
     "output_type": "execute_result"
    }
   ],
   "source": [
    "make_out_word('[[]]', 'word') # '[[word]]'"
   ]
  },
  {
   "cell_type": "code",
   "execution_count": null,
   "id": "92a3bdaf",
   "metadata": {},
   "outputs": [],
   "source": [
    "...\n",
    "\n",
    "...\n",
    "\n",
    "..."
   ]
  },
  {
   "cell_type": "code",
   "execution_count": null,
   "id": "d33fc00e",
   "metadata": {},
   "outputs": [],
   "source": [
    "### 3.5 extra_end "
   ]
  },
  {
   "cell_type": "code",
   "execution_count": null,
   "id": "ab5c7cfa",
   "metadata": {},
   "outputs": [],
   "source": [
    "Given a string, return a new string made of 3 copies of the last 2 chars of the original string. The string length will be at least 2.\n",
    "\n",
    "\n",
    "extra_end('Hello') → 'lololo'\n",
    "extra_end('ab') → 'ababab'\n",
    "extra_end('Hi') → 'HiHiHi'"
   ]
  },
  {
   "cell_type": "code",
   "execution_count": 18,
   "id": "e634e1f4",
   "metadata": {},
   "outputs": [],
   "source": [
    "def extra_end(str):\n",
    "  end = str[-2:]\n",
    "  \n",
    "  return end + end + end"
   ]
  },
  {
   "cell_type": "code",
   "execution_count": 19,
   "id": "bf1dc513",
   "metadata": {},
   "outputs": [
    {
     "data": {
      "text/plain": [
       "'lololo'"
      ]
     },
     "execution_count": 19,
     "metadata": {},
     "output_type": "execute_result"
    }
   ],
   "source": [
    "extra_end('Hello') # 'lololo'"
   ]
  },
  {
   "cell_type": "code",
   "execution_count": 20,
   "id": "9e5f2a91",
   "metadata": {},
   "outputs": [
    {
     "data": {
      "text/plain": [
       "'ababab'"
      ]
     },
     "execution_count": 20,
     "metadata": {},
     "output_type": "execute_result"
    }
   ],
   "source": [
    "extra_end('ab') # 'ababab'"
   ]
  },
  {
   "cell_type": "code",
   "execution_count": 21,
   "id": "1f641c4a",
   "metadata": {},
   "outputs": [
    {
     "data": {
      "text/plain": [
       "'HiHiHi'"
      ]
     },
     "execution_count": 21,
     "metadata": {},
     "output_type": "execute_result"
    }
   ],
   "source": [
    "extra_end('Hi') # 'HiHiHi'"
   ]
  },
  {
   "cell_type": "code",
   "execution_count": null,
   "id": "4e1e66d4",
   "metadata": {},
   "outputs": [],
   "source": [
    "...\n",
    "\n",
    "...\n",
    "\n",
    "..."
   ]
  },
  {
   "cell_type": "code",
   "execution_count": null,
   "id": "8012e131",
   "metadata": {},
   "outputs": [],
   "source": [
    "### 3.6 first_two "
   ]
  },
  {
   "cell_type": "code",
   "execution_count": null,
   "id": "65d612f3",
   "metadata": {},
   "outputs": [],
   "source": [
    "Given a string, return the string made of its first two chars, so the String \"Hello\" yields \"He\". If the string is shorter than length 2, return whatever there is, so \"X\" yields \"X\", and the empty string \"\" yields the empty string \"\".\n",
    "\n",
    "\n",
    "first_two('Hello') → 'He'\n",
    "first_two('abcdefg') → 'ab'\n",
    "first_two('ab') → 'ab'"
   ]
  },
  {
   "cell_type": "code",
   "execution_count": 23,
   "id": "8caf84b4",
   "metadata": {},
   "outputs": [],
   "source": [
    "def first_two(str):\n",
    "  first_two = str[:2]\n",
    "  \n",
    "  \n",
    "  return first_two"
   ]
  },
  {
   "cell_type": "code",
   "execution_count": 24,
   "id": "f9600833",
   "metadata": {},
   "outputs": [
    {
     "data": {
      "text/plain": [
       "'He'"
      ]
     },
     "execution_count": 24,
     "metadata": {},
     "output_type": "execute_result"
    }
   ],
   "source": [
    "first_two('Hello') # 'He'"
   ]
  },
  {
   "cell_type": "code",
   "execution_count": 25,
   "id": "6361b244",
   "metadata": {},
   "outputs": [
    {
     "data": {
      "text/plain": [
       "'ab'"
      ]
     },
     "execution_count": 25,
     "metadata": {},
     "output_type": "execute_result"
    }
   ],
   "source": [
    "first_two('abcdefg') # 'ab'"
   ]
  },
  {
   "cell_type": "code",
   "execution_count": 26,
   "id": "fce1bb7a",
   "metadata": {},
   "outputs": [
    {
     "data": {
      "text/plain": [
       "'ab'"
      ]
     },
     "execution_count": 26,
     "metadata": {},
     "output_type": "execute_result"
    }
   ],
   "source": [
    "first_two('ab') # 'ab'"
   ]
  },
  {
   "cell_type": "code",
   "execution_count": null,
   "id": "fa77fccc",
   "metadata": {},
   "outputs": [],
   "source": [
    "...\n",
    "\n",
    "...\n",
    "\n",
    "..."
   ]
  },
  {
   "cell_type": "code",
   "execution_count": null,
   "id": "81ee3314",
   "metadata": {},
   "outputs": [],
   "source": [
    "### 3.7 first_half\n"
   ]
  },
  {
   "cell_type": "code",
   "execution_count": null,
   "id": "cdf962eb",
   "metadata": {},
   "outputs": [],
   "source": [
    "\n",
    "Given a string of even length, return the first half. So the string \"WooHoo\" yields \"Woo\".\n",
    "\n",
    "\n",
    "first_half('WooHoo') → 'Woo'\n",
    "first_half('HelloThere') → 'Hello'\n",
    "first_half('abcdef') → 'abc'"
   ]
  },
  {
   "cell_type": "code",
   "execution_count": 31,
   "id": "086105c2",
   "metadata": {},
   "outputs": [],
   "source": [
    "def first_half(str):\n",
    "  half = len(str) // 2\n",
    "  \n",
    "  return str[:half]"
   ]
  },
  {
   "cell_type": "code",
   "execution_count": 32,
   "id": "7fc517a2",
   "metadata": {},
   "outputs": [
    {
     "data": {
      "text/plain": [
       "'Woo'"
      ]
     },
     "execution_count": 32,
     "metadata": {},
     "output_type": "execute_result"
    }
   ],
   "source": [
    "first_half('WooHoo') # 'Woo'"
   ]
  },
  {
   "cell_type": "code",
   "execution_count": 33,
   "id": "573dcb66",
   "metadata": {},
   "outputs": [
    {
     "data": {
      "text/plain": [
       "'Hello'"
      ]
     },
     "execution_count": 33,
     "metadata": {},
     "output_type": "execute_result"
    }
   ],
   "source": [
    "first_half('HelloThere') # 'Hello'"
   ]
  },
  {
   "cell_type": "code",
   "execution_count": 34,
   "id": "d51ea47b",
   "metadata": {},
   "outputs": [
    {
     "data": {
      "text/plain": [
       "'abc'"
      ]
     },
     "execution_count": 34,
     "metadata": {},
     "output_type": "execute_result"
    }
   ],
   "source": [
    "first_half('abcdef') # 'abc'"
   ]
  },
  {
   "cell_type": "code",
   "execution_count": null,
   "id": "e005fe69",
   "metadata": {},
   "outputs": [],
   "source": [
    "...\n",
    "\n",
    "...\n",
    "\n",
    "..."
   ]
  },
  {
   "cell_type": "code",
   "execution_count": null,
   "id": "6dc654b0",
   "metadata": {},
   "outputs": [],
   "source": [
    "### 3.8 wihtout_end"
   ]
  },
  {
   "cell_type": "code",
   "execution_count": null,
   "id": "0c46e0b2",
   "metadata": {},
   "outputs": [],
   "source": [
    "Given a string, return a version without the first and last char, so \"Hello\" yields \"ell\". The string length will be at least 2.\n",
    "\n",
    "\n",
    "without_end('Hello') → 'ell'\n",
    "without_end('java') → 'av'\n",
    "without_end('coding') → 'odin'"
   ]
  },
  {
   "cell_type": "code",
   "execution_count": 35,
   "id": "d591d7cc",
   "metadata": {},
   "outputs": [],
   "source": [
    "def without_end(str):\n",
    "  \n",
    "  return str[1:-1]"
   ]
  },
  {
   "cell_type": "code",
   "execution_count": 36,
   "id": "548806d1",
   "metadata": {},
   "outputs": [
    {
     "data": {
      "text/plain": [
       "'ell'"
      ]
     },
     "execution_count": 36,
     "metadata": {},
     "output_type": "execute_result"
    }
   ],
   "source": [
    "without_end('Hello') # 'ell'"
   ]
  },
  {
   "cell_type": "code",
   "execution_count": 37,
   "id": "c01d0b2a",
   "metadata": {},
   "outputs": [
    {
     "data": {
      "text/plain": [
       "'av'"
      ]
     },
     "execution_count": 37,
     "metadata": {},
     "output_type": "execute_result"
    }
   ],
   "source": [
    "without_end('java') # 'av'"
   ]
  },
  {
   "cell_type": "code",
   "execution_count": 38,
   "id": "0756338e",
   "metadata": {},
   "outputs": [
    {
     "data": {
      "text/plain": [
       "'odin'"
      ]
     },
     "execution_count": 38,
     "metadata": {},
     "output_type": "execute_result"
    }
   ],
   "source": [
    "without_end('coding') # 'odin'"
   ]
  },
  {
   "cell_type": "code",
   "execution_count": null,
   "id": "d2959b3d",
   "metadata": {},
   "outputs": [],
   "source": [
    "...\n",
    "\n",
    "...\n",
    "\n",
    "..."
   ]
  },
  {
   "cell_type": "code",
   "execution_count": null,
   "id": "f3354a4b",
   "metadata": {},
   "outputs": [],
   "source": [
    "### 3.9 combo_string"
   ]
  },
  {
   "cell_type": "code",
   "execution_count": null,
   "id": "f87eb26e",
   "metadata": {},
   "outputs": [],
   "source": [
    "\n",
    "Given 2 strings, a and b, return a string of the form short+long+short, with the shorter string on the outside and the longer string on the inside. The strings will not be the same length, but they may be empty (length 0).\n",
    "\n",
    "\n",
    "combo_string('Hello', 'hi') → 'hiHellohi'\n",
    "combo_string('hi', 'Hello') → 'hiHellohi'\n",
    "combo_string('aaa', 'b') → 'baaab'"
   ]
  },
  {
   "cell_type": "code",
   "execution_count": 47,
   "id": "483bbece",
   "metadata": {},
   "outputs": [],
   "source": [
    "def combo_string(a, b):\n",
    "  a_len = len(a)\n",
    "  b_len = len(b)\n",
    "  \n",
    "  if a_len > b_len:\n",
    "    return b + a + b\n",
    "  else:\n",
    "    return a + b + a"
   ]
  },
  {
   "cell_type": "code",
   "execution_count": 48,
   "id": "50c189cc",
   "metadata": {},
   "outputs": [
    {
     "data": {
      "text/plain": [
       "'hiHellohi'"
      ]
     },
     "execution_count": 48,
     "metadata": {},
     "output_type": "execute_result"
    }
   ],
   "source": [
    "combo_string('Hello', 'hi') # 'hiHellohi'"
   ]
  },
  {
   "cell_type": "code",
   "execution_count": 49,
   "id": "34a51c29",
   "metadata": {},
   "outputs": [
    {
     "data": {
      "text/plain": [
       "'hiHellohi'"
      ]
     },
     "execution_count": 49,
     "metadata": {},
     "output_type": "execute_result"
    }
   ],
   "source": [
    "combo_string('hi', 'Hello') # 'hiHellohi'"
   ]
  },
  {
   "cell_type": "code",
   "execution_count": 50,
   "id": "f184bd5f",
   "metadata": {},
   "outputs": [
    {
     "data": {
      "text/plain": [
       "'baaab'"
      ]
     },
     "execution_count": 50,
     "metadata": {},
     "output_type": "execute_result"
    }
   ],
   "source": [
    "combo_string('aaa', 'b') # 'baaab'"
   ]
  },
  {
   "cell_type": "code",
   "execution_count": null,
   "id": "7a21e453",
   "metadata": {},
   "outputs": [],
   "source": [
    "...\n",
    "\n",
    "...\n",
    "\n",
    "..."
   ]
  },
  {
   "cell_type": "code",
   "execution_count": null,
   "id": "d3be6779",
   "metadata": {},
   "outputs": [],
   "source": [
    "### 3.10 non_start"
   ]
  },
  {
   "cell_type": "code",
   "execution_count": null,
   "id": "f681d4dc",
   "metadata": {},
   "outputs": [],
   "source": [
    "Given 2 strings, return their concatenation, except omit the first char of each. The strings will be at least length 1.\n",
    "\n",
    "\n",
    "non_start('Hello', 'There') → 'ellohere'\n",
    "non_start('java', 'code') → 'avaode'\n",
    "non_start('shotl', 'java') → 'hotlava'"
   ]
  },
  {
   "cell_type": "code",
   "execution_count": 52,
   "id": "ea6f9df9",
   "metadata": {},
   "outputs": [],
   "source": [
    "def non_start(a, b):\n",
    "  \n",
    "  return a[1:] + b[1:]"
   ]
  },
  {
   "cell_type": "code",
   "execution_count": 53,
   "id": "4ae1d74c",
   "metadata": {},
   "outputs": [
    {
     "data": {
      "text/plain": [
       "'ellohere'"
      ]
     },
     "execution_count": 53,
     "metadata": {},
     "output_type": "execute_result"
    }
   ],
   "source": [
    "non_start('Hello', 'There') # 'ellohere'"
   ]
  },
  {
   "cell_type": "code",
   "execution_count": 54,
   "id": "51244d93",
   "metadata": {},
   "outputs": [
    {
     "data": {
      "text/plain": [
       "'avaode'"
      ]
     },
     "execution_count": 54,
     "metadata": {},
     "output_type": "execute_result"
    }
   ],
   "source": [
    "non_start('java', 'code') # 'avaode'"
   ]
  },
  {
   "cell_type": "code",
   "execution_count": 55,
   "id": "731323fb",
   "metadata": {},
   "outputs": [
    {
     "data": {
      "text/plain": [
       "'hotlava'"
      ]
     },
     "execution_count": 55,
     "metadata": {},
     "output_type": "execute_result"
    }
   ],
   "source": [
    "non_start('shotl', 'java') # 'hotlava'"
   ]
  },
  {
   "cell_type": "code",
   "execution_count": null,
   "id": "3535329f",
   "metadata": {},
   "outputs": [],
   "source": [
    "...\n",
    "\n",
    "...\n",
    "\n",
    "..."
   ]
  },
  {
   "cell_type": "code",
   "execution_count": null,
   "id": "b0885cdd",
   "metadata": {},
   "outputs": [],
   "source": [
    "### 3.11 left_two"
   ]
  },
  {
   "cell_type": "code",
   "execution_count": null,
   "id": "c14de0b9",
   "metadata": {},
   "outputs": [],
   "source": [
    "Given a string, return a \"rotated left 2\" version where the first 2 chars are moved to the end. The string length will be at least 2.\n",
    "\n",
    "\n",
    "left2('Hello') → 'lloHe'\n",
    "left2('java') → 'vaja'\n",
    "left2('Hi') → 'Hi'"
   ]
  },
  {
   "cell_type": "code",
   "execution_count": 56,
   "id": "424aa45b",
   "metadata": {},
   "outputs": [],
   "source": [
    "def left2(str):\n",
    "  \n",
    "  return str[2:] + str[:2]"
   ]
  },
  {
   "cell_type": "code",
   "execution_count": 57,
   "id": "889fc91c",
   "metadata": {},
   "outputs": [
    {
     "data": {
      "text/plain": [
       "'lloHe'"
      ]
     },
     "execution_count": 57,
     "metadata": {},
     "output_type": "execute_result"
    }
   ],
   "source": [
    "left2('Hello') # 'lloHe'"
   ]
  },
  {
   "cell_type": "code",
   "execution_count": 58,
   "id": "f38b3f30",
   "metadata": {},
   "outputs": [
    {
     "data": {
      "text/plain": [
       "'vaja'"
      ]
     },
     "execution_count": 58,
     "metadata": {},
     "output_type": "execute_result"
    }
   ],
   "source": [
    "left2('java') # 'vaja'"
   ]
  },
  {
   "cell_type": "code",
   "execution_count": 59,
   "id": "d83689f9",
   "metadata": {},
   "outputs": [
    {
     "data": {
      "text/plain": [
       "'Hi'"
      ]
     },
     "execution_count": 59,
     "metadata": {},
     "output_type": "execute_result"
    }
   ],
   "source": [
    "left2('Hi') # 'Hi'"
   ]
  },
  {
   "cell_type": "code",
   "execution_count": null,
   "id": "4edc07b7",
   "metadata": {},
   "outputs": [],
   "source": []
  },
  {
   "cell_type": "code",
   "execution_count": null,
   "id": "e7aa1158",
   "metadata": {},
   "outputs": [],
   "source": []
  },
  {
   "cell_type": "code",
   "execution_count": null,
   "id": "15640e21",
   "metadata": {},
   "outputs": [],
   "source": []
  },
  {
   "cell_type": "code",
   "execution_count": null,
   "id": "ab181676",
   "metadata": {},
   "outputs": [],
   "source": []
  },
  {
   "cell_type": "code",
   "execution_count": null,
   "id": "02997281",
   "metadata": {},
   "outputs": [],
   "source": []
  },
  {
   "cell_type": "code",
   "execution_count": null,
   "id": "6109c1ae",
   "metadata": {},
   "outputs": [],
   "source": []
  },
  {
   "cell_type": "code",
   "execution_count": null,
   "id": "564b0ab6",
   "metadata": {},
   "outputs": [],
   "source": []
  }
 ],
 "metadata": {
  "kernelspec": {
   "display_name": "Python 3 (ipykernel)",
   "language": "python",
   "name": "python3"
  },
  "language_info": {
   "codemirror_mode": {
    "name": "ipython",
    "version": 3
   },
   "file_extension": ".py",
   "mimetype": "text/x-python",
   "name": "python",
   "nbconvert_exporter": "python",
   "pygments_lexer": "ipython3",
   "version": "3.12.2"
  }
 },
 "nbformat": 4,
 "nbformat_minor": 5
}
